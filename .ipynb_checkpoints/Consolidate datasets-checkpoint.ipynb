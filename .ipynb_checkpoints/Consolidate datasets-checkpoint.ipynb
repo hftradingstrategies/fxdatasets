{
 "cells": [
  {
   "cell_type": "code",
   "execution_count": 1,
   "id": "biological-arrival",
   "metadata": {},
   "outputs": [
    {
     "ename": "ModuleNotFoundError",
     "evalue": "No module named 'trading_module'",
     "output_type": "error",
     "traceback": [
      "\u001b[1;31m---------------------------------------------------------------------------\u001b[0m",
      "\u001b[1;31mModuleNotFoundError\u001b[0m                       Traceback (most recent call last)",
      "\u001b[1;32m<ipython-input-1-fddbfdf959c2>\u001b[0m in \u001b[0;36m<module>\u001b[1;34m\u001b[0m\n\u001b[0;32m      5\u001b[0m \u001b[1;32mimport\u001b[0m \u001b[0mpandas\u001b[0m \u001b[1;32mas\u001b[0m \u001b[0mpd\u001b[0m\u001b[1;33m\u001b[0m\u001b[1;33m\u001b[0m\u001b[0m\n\u001b[0;32m      6\u001b[0m \u001b[1;32mimport\u001b[0m \u001b[0mmatplotlib\u001b[0m\u001b[1;33m.\u001b[0m\u001b[0mpyplot\u001b[0m \u001b[1;32mas\u001b[0m \u001b[0mplt\u001b[0m\u001b[1;33m\u001b[0m\u001b[1;33m\u001b[0m\u001b[0m\n\u001b[1;32m----> 7\u001b[1;33m \u001b[1;32mimport\u001b[0m \u001b[0mtrading_module\u001b[0m \u001b[1;32mas\u001b[0m \u001b[0mtm\u001b[0m\u001b[1;33m\u001b[0m\u001b[1;33m\u001b[0m\u001b[0m\n\u001b[0m\u001b[0;32m      8\u001b[0m \u001b[1;32mimport\u001b[0m \u001b[0mtrading_globals\u001b[0m \u001b[1;32mas\u001b[0m \u001b[0mglobals\u001b[0m\u001b[1;33m\u001b[0m\u001b[1;33m\u001b[0m\u001b[0m\n\u001b[0;32m      9\u001b[0m \u001b[1;33m\u001b[0m\u001b[0m\n",
      "\u001b[1;31mModuleNotFoundError\u001b[0m: No module named 'trading_module'"
     ]
    }
   ],
   "source": [
    "#import requests\n",
    "import time\n",
    "import datetime\n",
    "#import json\n",
    "import pandas as pd\n",
    "import matplotlib.pyplot as plt\n",
    "import trading_module as tm\n",
    "import trading_globals as globals\n",
    "\n",
    "globals.initialize()\n",
    "\n",
    "# converti\n",
    "\n",
    "#tm.convert_datasets(from_symbol=\"EUR\", to_symbol=\"USD\")\n",
    "#tm.convert_datasets(from_symbol=\"EUR\", to_symbol=\"GBP\")\n",
    "#tm.convert_datasets(from_symbol=\"EUR\", to_symbol=\"CHF\")\n",
    "#tm.convert_datasets(from_symbol=\"EUR\", to_symbol=\"AUD\")\n",
    "#tm.convert_datasets(from_symbol=\"EUR\", to_symbol=\"JPY\")\n",
    "#tm.convert_datasets(from_symbol=\"EUR\", to_symbol=\"TRY\")\n",
    "#tm.convert_datasets(from_symbol=\"EUR\", to_symbol=\"NOK\")\n",
    "\n",
    "# consolida\n",
    "df_eurusd = tm.consolidate_dataset(from_symbol=\"EUR\", to_symbol=\"USD\")\n",
    "df_eurgbp = tm.consolidate_dataset(from_symbol=\"EUR\", to_symbol=\"GBP\")\n",
    "df_eurchf = tm.consolidate_dataset(from_symbol=\"EUR\", to_symbol=\"CHF\")\n",
    "df_euraud = tm.consolidate_dataset(from_symbol=\"EUR\", to_symbol=\"AUD\")\n",
    "df_eurjpy = tm.consolidate_dataset(from_symbol=\"EUR\", to_symbol=\"JPY\")\n",
    "df_eurtry = tm.consolidate_dataset(from_symbol=\"EUR\", to_symbol=\"TRY\")\n",
    "df_eurnok = tm.consolidate_dataset(from_symbol=\"EUR\", to_symbol=\"NOK\")\n",
    "\n",
    "#crea dei csv temporanei\n",
    "df_eurusd.to_csv('eurusd.csv', index = True)\n",
    "df_eurgbp.to_csv('eurgbp.csv', index = True)\n",
    "df_eurchf.to_csv('eurchf.csv', index = True)\n",
    "df_euraud.to_csv('euraud.csv', index = True)\n",
    "df_eurjpy.to_csv('eurjpy.csv', index = True)\n",
    "df_eurtry.to_csv('eurtry.csv', index = True)\n",
    "df_eurnok.to_csv('eurnok.csv', index = True)"
   ]
  },
  {
   "cell_type": "code",
   "execution_count": null,
   "id": "expressed-snapshot",
   "metadata": {},
   "outputs": [],
   "source": []
  }
 ],
 "metadata": {
  "kernelspec": {
   "display_name": "Python 3",
   "language": "python",
   "name": "python3"
  },
  "language_info": {
   "codemirror_mode": {
    "name": "ipython",
    "version": 3
   },
   "file_extension": ".py",
   "mimetype": "text/x-python",
   "name": "python",
   "nbconvert_exporter": "python",
   "pygments_lexer": "ipython3",
   "version": "3.8.5"
  }
 },
 "nbformat": 4,
 "nbformat_minor": 5
}
